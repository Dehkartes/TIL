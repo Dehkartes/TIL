{
 "cells": [
  {
   "cell_type": "code",
   "execution_count": null,
   "metadata": {},
   "outputs": [],
   "source": [
    "import openai\n",
    "import json\n",
    "from langchain.chat_models import ChatOpenAI\n",
    "from langchain.chains import LLMChain\n",
    "from langchain.prompts import PromptTemplate\n",
    "\n",
    "# 1️⃣ OpenAI API 키 설정\n",
    "OPENAI_API_KEY = \"your-api-key-here\"\n",
    "openai.api_key = OPENAI_API_KEY\n",
    "\n",
    "# 2️⃣ 학습 데이터 준비 (JSONL 포맷)\n",
    "training_data = [\n",
    "    {\"messages\": [{\"role\": \"system\", \"content\": \"You are a helpful legal assistant.\"},\n",
    "                   {\"role\": \"user\", \"content\": \"Explain contract law.\"},\n",
    "                   {\"role\": \"assistant\", \"content\": \"Contract law governs agreements between parties...\"}]},\n",
    "    {\"messages\": [{\"role\": \"system\", \"content\": \"You are a helpful medical assistant.\"},\n",
    "                   {\"role\": \"user\", \"content\": \"What are the symptoms of flu?\"},\n",
    "                   {\"role\": \"assistant\", \"content\": \"The symptoms of flu include fever, chills...\"}]}  \n",
    "]\n",
    "\n",
    "# 데이터 저장 (Fine-tuning에 사용될 JSONL 파일)\n",
    "with open(\"training_data.jsonl\", \"w\") as f:\n",
    "    for entry in training_data:\n",
    "        f.write(json.dumps(entry) + \"\\n\")\n",
    "\n",
    "# 3️⃣ OpenAI를 활용한 파인튜닝 모델 생성 (명령어 실행 필요)\n",
    "# ! openai api fine_tunes.create -t \"training_data.jsonl\" -m \"gpt-3.5-turbo\"\n",
    "\n",
    "# 4️⃣ 파인튜닝된 모델을 사용한 LangChain LLMChain 설정\n",
    "fine_tuned_model = \"your-fine-tuned-model-id\"\n",
    "llm = ChatOpenAI(model_name=fine_tuned_model, openai_api_key=OPENAI_API_KEY)\n",
    "\n",
    "# 5️⃣ 프롬프트 템플릿 생성\n",
    "prompt = PromptTemplate(\n",
    "    input_variables=[\"question\"],\n",
    "    template=\"Answer the following question as a legal expert: {question}\"\n",
    ")\n",
    "\n",
    "chain = LLMChain(llm=llm, prompt=prompt)\n",
    "\n",
    "# 6️⃣ 테스트 실행\n",
    "def ask_model(question):\n",
    "    response = chain.run(question=question)\n",
    "    return response\n",
    "\n",
    "# 사용 예시\n",
    "question = \"What is a breach of contract?\"\n",
    "answer = ask_model(question)\n",
    "print(\"AI Response:\", answer)\n"
   ]
  }
 ],
 "metadata": {
  "kernelspec": {
   "display_name": "Python 3",
   "language": "python",
   "name": "python3"
  },
  "language_info": {
   "name": "python",
   "version": "3.10.12"
  }
 },
 "nbformat": 4,
 "nbformat_minor": 2
}
